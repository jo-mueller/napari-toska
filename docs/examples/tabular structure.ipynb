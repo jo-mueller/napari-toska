{
 "cells": [
  {
   "cell_type": "markdown",
   "metadata": {},
   "source": [
    "(examples:measurements_3d)=\n",
    "# Topological skeleton analysis in 3D"
   ]
  },
  {
   "cell_type": "code",
   "execution_count": 32,
   "metadata": {},
   "outputs": [],
   "source": [
    "# import 3d binary blobs\n",
    "import numpy as np\n",
    "import napari_toska as nts\n",
    "from skimage import measure, io, morphology\n",
    "import napari\n",
    "import networkx as nx\n",
    "\n",
    "import napari_segment_blobs_and_things_with_membranes as nsbatwm\n",
    "from scipy import ndimage as ndi\n",
    "import matplotlib.pyplot as plt\n",
    "import pandas as pd"
   ]
  },
  {
   "cell_type": "code",
   "execution_count": 33,
   "metadata": {},
   "outputs": [],
   "source": [
    "viewer = napari.Viewer()"
   ]
  },
  {
   "cell_type": "code",
   "execution_count": 34,
   "metadata": {},
   "outputs": [],
   "source": [
    "probabilities = io.imread(r'C:\\Users\\johamuel\\Nextcloud\\Shared\\Skeletons4InstanceSegmentation\\Data\\predicted_probabilities.tif')\n",
    "segmentation = np.argmax(probabilities, axis=0)\n",
    "dilated = morphology.binary_dilation(segmentation, footprint=morphology.ball(10))\n",
    "segmentation_filled = ndi.binary_fill_holes(dilated > 0)\n",
    "eroded = morphology.binary_erosion(segmentation_filled, footprint=morphology.ball(10))"
   ]
  },
  {
   "cell_type": "code",
   "execution_count": 35,
   "metadata": {},
   "outputs": [],
   "source": [
    "labels = measure.label(eroded)\n",
    "skeleton_labeled = nts.generate_labeled_skeletonization(labels)\n",
    "skeleton_parsed = nts.parse_all_skeletons(skeleton_labeled, neighborhood='n26')"
   ]
  },
  {
   "cell_type": "code",
   "execution_count": 52,
   "metadata": {},
   "outputs": [
    {
     "data": {
      "text/plain": [
       "<Labels layer 'parsed skeleton' at 0x17ee41dd7f0>"
      ]
     },
     "execution_count": 52,
     "metadata": {},
     "output_type": "execute_result"
    }
   ],
   "source": [
    "viewer.layers.clear()\n",
    "viewer.add_image(probabilities[1], name='probabilities', colormap='inferno')\n",
    "\n",
    "viewer.add_labels(labels, name='blobs')\n",
    "viewer.add_labels(skeleton_labeled, name='skeleton')\n",
    "viewer.add_labels(skeleton_parsed, name='parsed skeleton')"
   ]
  },
  {
   "cell_type": "code",
   "execution_count": 37,
   "metadata": {},
   "outputs": [
    {
     "data": {
      "text/plain": [
       "<Labels layer 'parsed_skeleton_single' at 0x17edef99070>"
      ]
     },
     "execution_count": 37,
     "metadata": {},
     "output_type": "execute_result"
    }
   ],
   "source": [
    "skeleton_parsed_single = skeleton_parsed * (skeleton_labeled == 1)\n",
    "viewer.add_labels(skeleton_parsed_single, name='parsed_skeleton_single')"
   ]
  },
  {
   "cell_type": "code",
   "execution_count": 38,
   "metadata": {},
   "outputs": [],
   "source": [
    "def create_unique_skeleton(skeleton_parsed_single: \"napari.types.LabelsData\",\n",
    "                           terminal_point_label: int = 1,\n",
    "                           branch_label: int = 2,\n",
    "                           junction_label: int = 3):\n",
    "    \n",
    "    # Get the unique semantic classes in the image (excluding background)\n",
    "    semantic_classes = np.unique(skeleton_parsed_single)\n",
    "    semantic_classes = semantic_classes[semantic_classes != 0]  # Exclude background\n",
    "    result = np.zeros_like(skeleton_parsed_single)\n",
    "\n",
    "    # Initialize a counter for the unique identifiers and a mapping from the identifiers to the semantic classes\n",
    "    counter = 1\n",
    "    mapping = {}\n",
    "\n",
    "    # For each semantic class\n",
    "    for semantic_class in semantic_classes:\n",
    "        # Get a binary mask of the current semantic class\n",
    "        # and label the separate entities in the mask\n",
    "        mask = skeleton_parsed_single == semantic_class\n",
    "        labeled = measure.label(mask)\n",
    "        num_labels = np.max(labeled)\n",
    "\n",
    "        # For each label\n",
    "        for label in range(1, num_labels + 1):\n",
    "            # Assign the current counter value to the current label in the result\n",
    "            # and Store the mapping from the current counter value to the current semantic class\n",
    "            result[labeled == label] = counter\n",
    "            mapping[counter] = semantic_class\n",
    "\n",
    "            # Increment the counter\n",
    "            counter += 1\n",
    "\n",
    "        df = pd.DataFrame(list(mapping.items()), columns=['label', 'component'])\n",
    "    # insert entry for background at the top of the df\n",
    "    return result, df"
   ]
  },
  {
   "cell_type": "code",
   "execution_count": 39,
   "metadata": {},
   "outputs": [],
   "source": [
    "unique_skeleton, df = create_unique_skeleton(skeleton_parsed_single)\n",
    "\n",
    "# calculate branch lengths\n",
    "LUT = np.arange(0, df.shape[0]+1)\n",
    "for i, row in df.iterrows():\n",
    "    if row['component'] != 2:\n",
    "        LUT[row['label']] = 0\n",
    "        \n",
    "labeled_branches_single = LUT[unique_skeleton]\n",
    "\n",
    "branch_lengths = nts.calculate_branch_lengths(labeled_branches_single)\n",
    "df = df.merge(branch_lengths, on='label', how='left')\n",
    "df.fillna(0, inplace=True)\n",
    "\n",
    "# calculate inverse length\n",
    "df['inverse_length'] = 1 / df['branch_length']"
   ]
  },
  {
   "cell_type": "code",
   "execution_count": 53,
   "metadata": {},
   "outputs": [
    {
     "data": {
      "text/plain": [
       "<Labels layer 'unique_skeleton' at 0x17f3bd2bca0>"
      ]
     },
     "execution_count": 53,
     "metadata": {},
     "output_type": "execute_result"
    },
    {
     "name": "stdout",
     "output_type": "stream",
     "text": [
      "Napari status bar display of label properties disabled because https://github.com/napari/napari/issues/5417 and https://github.com/napari/napari/issues/4342\n",
      "Selected column component\n",
      "Selected column branch_length\n"
     ]
    }
   ],
   "source": [
    "viewer.add_labels(unique_skeleton, name='unique_skeleton', features=df)"
   ]
  },
  {
   "cell_type": "code",
   "execution_count": 41,
   "metadata": {},
   "outputs": [],
   "source": [
    "# now we turn all this information into an nx graph\n",
    "graph = nx.Graph()\n",
    "\n",
    "for i, row in df[df['component'] != 2].iterrows():\n",
    "    graph.add_node(row['label'], **row.to_dict())\n",
    "\n",
    "# browsing all branches for connections\n",
    "structure = np.ones((3, 3, 3))  # 26-connectivity\n",
    "touched_objects = []\n",
    "for branch_label in df[df['component'] == 2]['label']:\n",
    "    branch_mask = unique_skeleton == branch_label\n",
    "    expanded = ndi.binary_dilation(branch_mask, structure=structure, iterations=1)\n",
    "    touched_labels = list(np.unique(expanded * unique_skeleton))\n",
    "\n",
    "    # remove 0 and the branch label itself\n",
    "    touched_labels.remove(0)\n",
    "    touched_labels.remove(branch_label)\n",
    "\n",
    "    # store for branch which labels it touches\n",
    "    df.loc[df['label'] == branch_label, 'touches_1'] = touched_labels[0]\n",
    "    df.loc[df['label'] == branch_label, 'touches_2'] = touched_labels[1]\n",
    "\n",
    "    touched_objects.append(touched_labels[0])\n",
    "    touched_objects.append(touched_labels[1])\n",
    "\n",
    "    # add edges to the graph\n",
    "    branch_properties = df[df['label'] == branch_label].squeeze().to_dict()\n",
    "    branch_properties = {k: v for k, v in branch_properties.items() if v != 0}\n",
    "    graph.add_edge(touched_labels[0], touched_labels[1], **branch_properties)\n",
    "\n",
    "\n",
    "# checking for untouched objects (i.e., objects that are not connected to any branch such as end points attached to a branch point)\n",
    "untouched_objects = np.setdiff1d(df[df['component'] != 2]['label'].values, touched_objects)\n",
    "untouched_objects = untouched_objects[untouched_objects != 0]\n",
    "for untouched in untouched_objects:\n",
    "    mask = unique_skeleton == untouched\n",
    "    expanded = ndi.binary_dilation(mask, structure=structure, iterations=1)\n",
    "    touched_labels = list(np.unique(expanded * unique_skeleton))\n",
    "\n",
    "    touched_labels.remove(0)\n",
    "    touched_labels.remove(untouched)\n",
    "\n",
    "    graph.add_edge(touched_labels[0], untouched, branch_length=0, label=None)"
   ]
  },
  {
   "cell_type": "markdown",
   "metadata": {},
   "source": [
    "## Community separation"
   ]
  },
  {
   "cell_type": "code",
   "execution_count": 60,
   "metadata": {},
   "outputs": [],
   "source": [
    "communities = nx.community.louvain_communities(graph, weight='inverse_length', resolution=0.05)\n",
    "\n",
    "# add community as feature to nodes\n",
    "for comm_index, community in enumerate(communities):\n",
    "    for node in list(community):\n",
    "        # add community index as feature\n",
    "        graph.nodes[node]['community'] = comm_index\n",
    "\n",
    "# add community as feature to edges\n",
    "for edge in graph.edges:\n",
    "    edge_data = graph.get_edge_data(*edge)\n",
    "    \n",
    "    #check if both nodes belong to same community\n",
    "    if graph.nodes[edge[0]]['community'] == graph.nodes[edge[1]]['community']:\n",
    "        edge_data['community'] = graph.nodes[edge[0]]['community']\n",
    "    else:\n",
    "        edge_data['community'] = np.nan"
   ]
  },
  {
   "cell_type": "code",
   "execution_count": 61,
   "metadata": {},
   "outputs": [
    {
     "name": "stderr",
     "output_type": "stream",
     "text": [
      "C:\\Users\\johamuel\\AppData\\Local\\Temp\\ipykernel_10532\\4030707175.py:4: MatplotlibDeprecationWarning: The get_cmap function was deprecated in Matplotlib 3.7 and will be removed two minor releases later. Use ``matplotlib.colormaps[name]`` or ``matplotlib.colormaps.get_cmap(obj)`` instead.\n",
      "  cm_edge = plt.cm.get_cmap('viridis')\n",
      "C:\\Users\\johamuel\\AppData\\Local\\Temp\\ipykernel_10532\\4030707175.py:5: MatplotlibDeprecationWarning: The get_cmap function was deprecated in Matplotlib 3.7 and will be removed two minor releases later. Use ``matplotlib.colormaps[name]`` or ``matplotlib.colormaps.get_cmap(obj)`` instead.\n",
      "  cm_node = plt.cm.get_cmap('tab20')\n"
     ]
    },
    {
     "data": {
      "image/png": "[encoded data removed]",
      "text/plain": [
       "<Figure size 640x480 with 1 Axes>"
      ]
     },
     "metadata": {},
     "output_type": "display_data"
    }
   ],
   "source": [
    "\n",
    "edge_values = [x for x in nx.get_edge_attributes(graph, 'branch_length').values()]\n",
    "node_values = [graph.nodes[node]['community'] for node in graph.nodes]\n",
    "\n",
    "cm_edge = plt.cm.get_cmap('viridis')\n",
    "cm_node = plt.cm.get_cmap('tab20')\n",
    "norm_edge = plt.Normalize(vmin=min(edge_values), vmax=max(edge_values))\n",
    "norm_node = plt.Normalize(vmin=min(node_values), vmax=max(node_values))\n",
    "edge_colors = [cm_edge(norm_edge(value)) for value in edge_values]\n",
    "node_colors = [cm_node(norm_node(value)) for value in node_values]\n",
    "\n",
    "fig, ax = plt.subplots()\n",
    "# draw graph with edge weights\n",
    "pos = nx.spring_layout(graph)\n",
    "nx.draw(graph, pos, ax=ax, with_labels=True, edge_color=edge_colors, node_color=node_colors)"
   ]
  },
  {
   "cell_type": "markdown",
   "metadata": {},
   "source": [
    "## Add community to unique skeleton"
   ]
  },
  {
   "cell_type": "code",
   "execution_count": 64,
   "metadata": {},
   "outputs": [],
   "source": [
    "# retrieve the communities from the graph\n",
    "communities = nx.get_node_attributes(graph, 'community')\n",
    "\n",
    "# retrieve edges inside community for all detected communities\n",
    "edges = []\n",
    "for community in set(communities.values()):\n",
    "    edges.append([(u, v) for u, v in graph.edges if communities[u] == community and communities[v] == community])\n",
    "    edge_labels = [int(graph.nodes[u]['label']) for u, v in edges[-1]]"
   ]
  },
  {
   "cell_type": "code",
   "execution_count": 65,
   "metadata": {},
   "outputs": [
    {
     "data": {
      "text/html": [
       "<div>\n",
       "<style scoped>\n",
       "    .dataframe tbody tr th:only-of-type {\n",
       "        vertical-align: middle;\n",
       "    }\n",
       "\n",
       "    .dataframe tbody tr th {\n",
       "        vertical-align: top;\n",
       "    }\n",
       "\n",
       "    .dataframe thead th {\n",
       "        text-align: right;\n",
       "    }\n",
       "</style>\n",
       "<table border=\"1\" class=\"dataframe\">\n",
       "  <thead>\n",
       "    <tr style=\"text-align: right;\">\n",
       "      <th></th>\n",
       "      <th>label</th>\n",
       "      <th>component</th>\n",
       "      <th>branch_length</th>\n",
       "      <th>inverse_length</th>\n",
       "      <th>touches_1</th>\n",
       "      <th>touches_2</th>\n",
       "      <th>community</th>\n",
       "    </tr>\n",
       "  </thead>\n",
       "  <tbody>\n",
       "    <tr>\n",
       "      <th>0</th>\n",
       "      <td>1</td>\n",
       "      <td>1</td>\n",
       "      <td>0.0</td>\n",
       "      <td>inf</td>\n",
       "      <td>NaN</td>\n",
       "      <td>NaN</td>\n",
       "      <td>1.0</td>\n",
       "    </tr>\n",
       "    <tr>\n",
       "      <th>1</th>\n",
       "      <td>2</td>\n",
       "      <td>1</td>\n",
       "      <td>0.0</td>\n",
       "      <td>inf</td>\n",
       "      <td>NaN</td>\n",
       "      <td>NaN</td>\n",
       "      <td>1.0</td>\n",
       "    </tr>\n",
       "    <tr>\n",
       "      <th>2</th>\n",
       "      <td>3</td>\n",
       "      <td>1</td>\n",
       "      <td>0.0</td>\n",
       "      <td>inf</td>\n",
       "      <td>NaN</td>\n",
       "      <td>NaN</td>\n",
       "      <td>2.0</td>\n",
       "    </tr>\n",
       "    <tr>\n",
       "      <th>3</th>\n",
       "      <td>4</td>\n",
       "      <td>1</td>\n",
       "      <td>0.0</td>\n",
       "      <td>inf</td>\n",
       "      <td>NaN</td>\n",
       "      <td>NaN</td>\n",
       "      <td>2.0</td>\n",
       "    </tr>\n",
       "    <tr>\n",
       "      <th>4</th>\n",
       "      <td>5</td>\n",
       "      <td>1</td>\n",
       "      <td>0.0</td>\n",
       "      <td>inf</td>\n",
       "      <td>NaN</td>\n",
       "      <td>NaN</td>\n",
       "      <td>1.0</td>\n",
       "    </tr>\n",
       "  </tbody>\n",
       "</table>\n",
       "</div>"
      ],
      "text/plain": [
       "   label  component  branch_length  inverse_length  touches_1  touches_2  \\\n",
       "0      1          1            0.0             inf        NaN        NaN   \n",
       "1      2          1            0.0             inf        NaN        NaN   \n",
       "2      3          1            0.0             inf        NaN        NaN   \n",
       "3      4          1            0.0             inf        NaN        NaN   \n",
       "4      5          1            0.0             inf        NaN        NaN   \n",
       "\n",
       "   community  \n",
       "0        1.0  \n",
       "1        1.0  \n",
       "2        2.0  \n",
       "3        2.0  \n",
       "4        1.0  "
      ]
     },
     "execution_count": 65,
     "metadata": {},
     "output_type": "execute_result"
    }
   ],
   "source": [
    "for community in list(set(communities.values())):\n",
    "    node_list = [int(graph.nodes[node]['label']) for node in graph.nodes if graph.nodes[node]['community'] == community]\n",
    "    edge_list = []\n",
    "    for edge in graph.edges:\n",
    "        if graph.edges[edge]['community'] == community and graph.edges[edge]['label'] is not None:\n",
    "            edge_list.append(graph.edges[edge]['label'])\n",
    "\n",
    "    df.loc[df['label'].isin(node_list), 'community'] = community + 1\n",
    "    df.loc[df['label'].isin(edge_list), 'community'] = community + 1\n",
    "\n",
    "df.head()"
   ]
  },
  {
   "cell_type": "markdown",
   "metadata": {},
   "source": [
    "## Cut skeleton by community"
   ]
  },
  {
   "cell_type": "code",
   "execution_count": 66,
   "metadata": {},
   "outputs": [],
   "source": [
    "community_skeleton = np.zeros_like(unique_skeleton)\n",
    "for i, row in df.iterrows():\n",
    "\n",
    "    if ~np.isnan(row['community']):\n",
    "        community_skeleton[unique_skeleton == row['label']] = row['community']\n",
    "expanded_community = nsbatwm.expand_labels(community_skeleton, distance=100)\n",
    "expanded_community = expanded_community * (eroded > 0)\n"
   ]
  },
  {
   "cell_type": "code",
   "execution_count": 67,
   "metadata": {},
   "outputs": [
    {
     "data": {
      "text/plain": [
       "<Labels layer 'expanded_community [1]' at 0x17f3bc90d90>"
      ]
     },
     "execution_count": 67,
     "metadata": {},
     "output_type": "execute_result"
    }
   ],
   "source": [
    "#viewer.layers.clear()\n",
    "viewer.add_labels(segmentation, blending='additive', name='segmentation')\n",
    "viewer.add_labels(unique_skeleton, name='unique_skeleton', features=df, blending='additive')\n",
    "viewer.add_labels(community_skeleton, name='community_skeleton', blending='additive')\n",
    "viewer.add_labels(expanded_community, name='expanded_community', blending='additive')"
   ]
  },
  {
   "cell_type": "code",
   "execution_count": 58,
   "metadata": {},
   "outputs": [],
   "source": [
    "edt = ndi.distance_transform_edt(eroded)\n",
    "edt_branch = edt * (unique_skeleton == 17)\n",
    "\n",
    "minimum = edt_branch[edt_branch > 0].min()\n",
    "\n",
    "edt_branch_cut = edt_branch.copy()\n",
    "edt_branch_cut[edt_branch_cut == minimum] = 0"
   ]
  },
  {
   "cell_type": "code",
   "execution_count": 49,
   "metadata": {},
   "outputs": [
    {
     "data": {
      "text/plain": [
       "<Points layer 'Points' at 0x17edf2c87f0>"
      ]
     },
     "execution_count": 49,
     "metadata": {},
     "output_type": "execute_result"
    }
   ],
   "source": [
    "viewer.add_points(np.stack(np.where(edt_branch == minimum)).squeeze())"
   ]
  },
  {
   "cell_type": "code",
   "execution_count": 54,
   "metadata": {},
   "outputs": [
    {
     "data": {
      "text/plain": [
       "<Image layer 'distance transform branch (cut)' at 0x17edecbfe80>"
      ]
     },
     "execution_count": 54,
     "metadata": {},
     "output_type": "execute_result"
    }
   ],
   "source": [
    "\n",
    "viewer.add_image(edt_branch, name='distance transform branch', colormap='inferno', blending='additive')\n",
    "viewer.add_image(edt, name='distance transform', colormap='inferno', blending='additive')\n",
    "viewer.add_image(edt_branch_cut, name='distance transform branch (cut)', colormap='inferno', blending='additive')"
   ]
  },
  {
   "cell_type": "code",
   "execution_count": 59,
   "metadata": {},
   "outputs": [
    {
     "data": {
      "text/plain": [
       "(array([34., 13., 20.,  5., 18.]),\n",
       " array([32.34192326, 36.47353861, 40.60515395, 44.7367693 , 48.86838465,\n",
       "        53.        ]),\n",
       " <BarContainer object of 5 artists>)"
      ]
     },
     "execution_count": 59,
     "metadata": {},
     "output_type": "execute_result"
    },
    {
     "data": {
      "image/png": "[encoded data removed]",
      "text/plain": [
       "<Figure size 640x480 with 1 Axes>"
      ]
     },
     "metadata": {},
     "output_type": "display_data"
    }
   ],
   "source": [
    "plt.hist(edt_branch[edt_branch != 0], bins='fd')"
   ]
  },
  {
   "cell_type": "code",
   "execution_count": 57,
   "metadata": {},
   "outputs": [
    {
     "data": {
      "text/plain": [
       "array([39.])"
      ]
     },
     "execution_count": 57,
     "metadata": {},
     "output_type": "execute_result"
    }
   ],
   "source": [
    "edt_branch[edt_branch != 0]"
   ]
  },
  {
   "cell_type": "code",
   "execution_count": null,
   "metadata": {},
   "outputs": [],
   "source": []
  }
 ],
 "metadata": {
  "kernelspec": {
   "display_name": "toska",
   "language": "python",
   "name": "python3"
  },
  "language_info": {
   "codemirror_mode": {
    "name": "ipython",
    "version": 3
   },
   "file_extension": ".py",
   "mimetype": "text/x-python",
   "name": "python",
   "nbconvert_exporter": "python",
   "pygments_lexer": "ipython3",
   "version": "3.9.16"
  },
  "orig_nbformat": 4
 },
 "nbformat": 4,
 "nbformat_minor": 2
}
